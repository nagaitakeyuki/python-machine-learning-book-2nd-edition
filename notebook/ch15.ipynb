{
 "cells": [
  {
   "cell_type": "code",
   "execution_count": 2,
   "metadata": {},
   "outputs": [
    {
     "name": "stdout",
     "output_type": "stream",
     "text": [
      "Conv1d Implementation:  [ 5. 14. 16. 26. 24. 34. 19. 22.]\n",
      "Numpy Results:  [ 5 14 16 26 24 34 19 22]\n"
     ]
    }
   ],
   "source": [
    "import numpy as np\n",
    "\n",
    "def conv1d(x, w, p=0, s=1):\n",
    "    w_rot= np.array(w[::-1])\n",
    "    x_padded = np.array(x)\n",
    "    if p > 0:\n",
    "        zero_pad = np.zeros(shape=p)\n",
    "        x_padded = np.concatenate([zero_pad, x_padded, zero_pad])\n",
    "    res = []\n",
    "    for i in range(0, int(len(x)/s), s):\n",
    "        res.append(np.sum(x_padded[i: i + w_rot.shape[0]] * w_rot))\n",
    "    return np.array(res)\n",
    "\n",
    "x = [1, 3, 2, 4, 5, 6, 1, 3]\n",
    "w = [1, 0, 3, 1, 2]\n",
    "\n",
    "print('Conv1d Implementation: ', conv1d(x, w, p=2, s=1))\n",
    "\n",
    "print('Numpy Results: ', np.convolve(x, w, mode='same'))"
   ]
  },
  {
   "cell_type": "code",
   "execution_count": 5,
   "metadata": {},
   "outputs": [
    {
     "name": "stdout",
     "output_type": "stream",
     "text": [
      "Conv2 Implementation: \n",
      " [[11. 25. 32. 13.]\n",
      " [19. 25. 24. 13.]\n",
      " [13. 28. 25. 17.]\n",
      " [11. 17. 14.  9.]]\n",
      "Scipy Resluts: \n",
      " [[11 25 32 13]\n",
      " [19 25 24 13]\n",
      " [13 28 25 17]\n",
      " [11 17 14  9]]\n"
     ]
    }
   ],
   "source": [
    "import scipy.signal\n",
    "\n",
    "def conv2d(X, W, p=(0,0), s=(1,1)):\n",
    "    W_rot = np.array(W)[::-1, ::-1]\n",
    "    X_orig = np.array(X)\n",
    "    n1 = X_orig.shape[0] + 2 * p[0]\n",
    "    n2 = X_orig.shape[1] + 2 * p[1]\n",
    "    X_padded = np.zeros(shape=(n1, n2))\n",
    "    X_padded[p[0]:p[0] + X_orig.shape[0],\n",
    "                        p[1]:p[1] + X_orig.shape[1]] = X_orig\n",
    "    \n",
    "    res = []\n",
    "    \n",
    "    for i in range(0, \n",
    "                           int( (X_padded.shape[0] - W_rot.shape[0]) / s[0]) + 1,\n",
    "                          s[0]):\n",
    "        \n",
    "        res.append([])\n",
    "        \n",
    "        for j in range (0,\n",
    "                               int( (X_padded.shape[1] - W_rot.shape[1]) / s[1]) + 1,\n",
    "                                s[1]):\n",
    "            \n",
    "            X_sub = X_padded[i : i + W_rot.shape[0], j : j + W_rot.shape[1]]\n",
    "            res[-1].append(np.sum(X_sub * W_rot))\n",
    "    \n",
    "    return (np.array(res))\n",
    "\n",
    "X = [[1, 3, 2, 4], [5, 6, 1, 3],[1, 2, 0, 2],[3, 4, 3, 2]]\n",
    "W = [[1, 0, 3], [1, 2, 1], [0, 1, 1]]\n",
    "\n",
    "print('Conv2 Implementation: \\n', conv2d(X, W, p=(1,1), s=(1,1)))\n",
    "\n",
    "print('Scipy Resluts: \\n', scipy.signal.convolve2d(X, W, mode='same'))"
   ]
  },
  {
   "cell_type": "code",
   "execution_count": 23,
   "metadata": {},
   "outputs": [],
   "source": [
    "import os\n",
    "import struct\n",
    "import numpy as np\n",
    "\n",
    "def load_mnist(path, kind='train'):\n",
    "    labels_path = os.path.join(path, '%s-labels-idx1-ubyte' % kind)\n",
    "    images_path = os.path.join(path, '%s-images-idx3-ubyte' % kind)\n",
    "    \n",
    "    with open(labels_path, 'rb') as lbpath:\n",
    "        magic, n = struct.unpack('>II', lbpath.read(8))\n",
    "        labels = np.fromfile(lbpath, dtype=np.uint8)\n",
    "    \n",
    "    with open(images_path, 'rb') as imgpath:\n",
    "        magic, num, rows, cols = struct.unpack('>IIII', imgpath.read(16))\n",
    "        images = np.fromfile(imgpath, dtype=np.uint8).reshape(len(labels), 784)\n",
    "        \n",
    "        # 0〜1の範囲となったものから0.5を引いて、-0.5〜0.5の範囲に変更。\n",
    "        # それを更に2倍することで、-1〜1.0の範囲に変更している。\n",
    "        images = ((images / 255.) - .5) * 2\n",
    "    \n",
    "    return images, labels"
   ]
  },
  {
   "cell_type": "code",
   "execution_count": 24,
   "metadata": {},
   "outputs": [
    {
     "name": "stdout",
     "output_type": "stream",
     "text": [
      "Rows: 60000, Columns: 784\n",
      "Rows: 10000, Columns: 784\n",
      "Training:      (50000, 784) (50000,)\n",
      "Validation:   (10000, 784) (10000,)\n",
      "Test Set:     (10000, 784) (10000,)\n"
     ]
    }
   ],
   "source": [
    "X_data, y_data = load_mnist('../../../ch12_work/', kind='train')\n",
    "print('Rows: %d, Columns: %d' % (X_data.shape[0], X_data.shape[1]))\n",
    "\n",
    "X_test, y_test = load_mnist('../../../ch12_work/', kind='t10k')\n",
    "print('Rows: %d, Columns: %d' % (X_test.shape[0], X_test.shape[1]))\n",
    "\n",
    "X_train, y_train = X_data[:50000, :], y_data[:50000]\n",
    "X_valid, y_valid = X_data[50000:, :], y_data[50000:]\n",
    "print('Training:     ', X_train.shape, y_train.shape)\n",
    "print('Validation:  ', X_valid.shape, y_valid.shape)\n",
    "print('Test Set:    ', X_test.shape, y_test.shape)"
   ]
  },
  {
   "cell_type": "code",
   "execution_count": 25,
   "metadata": {},
   "outputs": [],
   "source": [
    "def batch_generator(X, y, batch_size=64, shuffle=False, random_seed=None):\n",
    "    idx = np.arange(y.shape[0])\n",
    "    \n",
    "    if shuffle:\n",
    "        rng = np.random.RandomState(random_seed)\n",
    "        rng.shuffle(idx)\n",
    "        X = X[idx]\n",
    "        y = y[idx]\n",
    "    \n",
    "    for i in range(0, X.shape[0], batch_size):\n",
    "        yield(X[i : i + batch_size, :], y[i : i + batch_size])"
   ]
  },
  {
   "cell_type": "code",
   "execution_count": 26,
   "metadata": {},
   "outputs": [],
   "source": [
    "mean_vals = np.mean(X_train, axis=0)\n",
    "std_val = np.std(X_train)\n",
    "\n",
    "X_train_centered = (X_train - mean_vals) / std_val\n",
    "X_valid_centered = (X_valid - mean_vals) / std_val\n",
    "X_test_centered = (X_test - mean_vals) / std_val"
   ]
  },
  {
   "cell_type": "code",
   "execution_count": 27,
   "metadata": {},
   "outputs": [],
   "source": [
    "import tensorflow as tf\n",
    "import numpy as np\n",
    "\n",
    "def conv_layer(input_tensor, name, kernel_size, n_output_channels, \n",
    "                              padding_mode='SAME', strides=(1, 1, 1, 1)):\n",
    "    with tf.variable_scope(name):\n",
    "        input_shape = input_tensor.get_shape().as_list()\n",
    "        n_input_channels = input_shape[-1]\n",
    "        \n",
    "        weights_shape = (list(kernel_size) + \n",
    "                                         [n_input_channels, n_output_channels])\n",
    "        \n",
    "        weights = tf.get_variable(name='_weights', \n",
    "                                                      shape=weights_shape)\n",
    "        print(weights)\n",
    "        \n",
    "        biases = tf.get_variable(\n",
    "            name='_biases', initializer=tf.zeros(shape=[n_output_channels]))\n",
    "        print(biases)\n",
    "        \n",
    "        conv = tf.nn.conv2d(input=input_tensor,\n",
    "                                               filter=weights,\n",
    "                                               strides=strides,\n",
    "                                               padding=padding_mode)\n",
    "        print(conv)\n",
    "        \n",
    "        conv = tf.nn.bias_add(conv, biases, name='net_pre-activation')\n",
    "        print(conv)\n",
    "        \n",
    "        conv = tf.nn.relu(conv, name='activation')\n",
    "        print(conv)\n",
    "        \n",
    "        return conv    "
   ]
  },
  {
   "cell_type": "code",
   "execution_count": 5,
   "metadata": {},
   "outputs": [
    {
     "data": {
      "text/plain": [
       "[1, 2, 3]"
      ]
     },
     "execution_count": 5,
     "metadata": {},
     "output_type": "execute_result"
    }
   ],
   "source": [
    "[1] + [2, 3]"
   ]
  },
  {
   "cell_type": "code",
   "execution_count": 28,
   "metadata": {},
   "outputs": [
    {
     "name": "stdout",
     "output_type": "stream",
     "text": [
      "<tf.Variable 'convtest/_weights:0' shape=(3, 3, 1, 32) dtype=float32_ref>\n",
      "<tf.Variable 'convtest/_biases:0' shape=(32,) dtype=float32_ref>\n",
      "Tensor(\"convtest/Conv2D:0\", shape=(?, 28, 28, 32), dtype=float32)\n",
      "Tensor(\"convtest/net_pre-activation:0\", shape=(?, 28, 28, 32), dtype=float32)\n",
      "Tensor(\"convtest/activation:0\", shape=(?, 28, 28, 32), dtype=float32)\n"
     ]
    }
   ],
   "source": [
    "g = tf.Graph()\n",
    "with g.as_default():\n",
    "    x = tf.placeholder(tf.float32, shape=[None, 28, 28, 1])\n",
    "    conv_layer(x, name='convtest', kernel_size=(3, 3), n_output_channels=32)\n",
    "\n",
    "del g, x"
   ]
  },
  {
   "cell_type": "code",
   "execution_count": 29,
   "metadata": {},
   "outputs": [],
   "source": [
    "def fc_layer(input_tensor, name, n_output_units, activation_fn=None):\n",
    "    with tf.variable_scope(name):\n",
    "        input_shape = input_tensor.get_shape().as_list()[1:]\n",
    "        n_input_units = np.prod(input_shape)\n",
    "        \n",
    "        if len(input_shape) > 1:\n",
    "            input_tensor = tf.reshape(input_tensor, \n",
    "                                                          shape=(-1, n_input_units))\n",
    "        \n",
    "        weights_shape = [n_input_units, n_output_units]\n",
    "        weights = tf.get_variable(name='_weights', \n",
    "                                                      shape=weights_shape)\n",
    "        print(weights)\n",
    "        \n",
    "        biases = tf.get_variable(name='_biases',\n",
    "                                                    initializer=tf.zeros(shape=[n_output_units]))\n",
    "        print(biases)\n",
    "        \n",
    "        layer = tf.matmul(input_tensor, weights)\n",
    "        print(layer)\n",
    "        \n",
    "        layer = tf.nn.bias_add(layer, biases, name='net_pre-activation')\n",
    "        print(layer)\n",
    "        \n",
    "        if activation_fn is None:\n",
    "            return layer\n",
    "        \n",
    "        layer = activation_fn(layer, name='activation')\n",
    "        print(layer)\n",
    "        \n",
    "        return layer"
   ]
  },
  {
   "cell_type": "code",
   "execution_count": 10,
   "metadata": {},
   "outputs": [
    {
     "data": {
      "text/plain": [
       "1024"
      ]
     },
     "execution_count": 10,
     "metadata": {},
     "output_type": "execute_result"
    }
   ],
   "source": [
    "np.prod([4,4,64])"
   ]
  },
  {
   "cell_type": "code",
   "execution_count": 30,
   "metadata": {},
   "outputs": [
    {
     "name": "stdout",
     "output_type": "stream",
     "text": [
      "<tf.Variable 'fctest/_weights:0' shape=(784, 32) dtype=float32_ref>\n",
      "<tf.Variable 'fctest/_biases:0' shape=(32,) dtype=float32_ref>\n",
      "Tensor(\"fctest/MatMul:0\", shape=(?, 32), dtype=float32)\n",
      "Tensor(\"fctest/net_pre-activation:0\", shape=(?, 32), dtype=float32)\n",
      "Tensor(\"fctest/activation:0\", shape=(?, 32), dtype=float32)\n"
     ]
    }
   ],
   "source": [
    "g = tf.Graph()\n",
    "with g.as_default():\n",
    "    x = tf.placeholder(tf.float32, shape=[None, 28, 28, 1])\n",
    "    fc_layer(x, name='fctest', n_output_units=32, activation_fn=tf.nn.relu)\n",
    "\n",
    "del g, x"
   ]
  },
  {
   "cell_type": "code",
   "execution_count": 31,
   "metadata": {},
   "outputs": [],
   "source": [
    "def build_cnn(learning_rate=1e-4):\n",
    "    tf_x = tf.placeholder(tf.float32, shape=[None, 784], name='tf_x')\n",
    "    tf_y = tf.placeholder(tf.int32, shape=[None], name='tf_y')\n",
    "    \n",
    "    tf_x_image = tf.reshape(tf_x, shape=[-1, 28, 28, 1], name='tf_x_reshaped')\n",
    "    \n",
    "    tf_y_onehot = tf.one_hot(indices=tf_y, depth=10, dtype=tf.float32,\n",
    "                                name='tf_y_onehot')\n",
    "    \n",
    "    print('\\nBuilding 1st layer: ')\n",
    "    h1 = conv_layer(tf_x_image, name='conv_1', kernel_size=(5, 5),\n",
    "                                   padding_mode='VALID', n_output_channels=32)\n",
    "    \n",
    "    h1_pool = tf.nn.max_pool(h1, ksize=[1, 2, 2, 1], strides=[1, 2, 2, 1],\n",
    "                            padding='SAME')\n",
    "    \n",
    "    print('\\nBuilding 2nd layer: ')\n",
    "    h2 = conv_layer(h1_pool, name='conv_2', kernel_size=(5, 5),\n",
    "                                   padding_mode='VALID', n_output_channels=64)\n",
    "    \n",
    "    h2_pool = tf.nn.max_pool(h2, ksize=[1, 2, 2, 1], strides=[1, 2, 2, 1],\n",
    "                                                    padding='SAME')\n",
    "    \n",
    "    print('\\nBuilding 3rd layer: ')\n",
    "    h3 = fc_layer(h2_pool, name='fc_3', n_output_units=1024,\n",
    "                             activation_fn=tf.nn.relu)\n",
    "    \n",
    "    keep_prob = tf.placeholder(tf.float32, name='fc_keep_prob')\n",
    "    h3_drop = tf.nn.dropout(h3, keep_prob=keep_prob, name='dropout_layer')\n",
    "    \n",
    "    print('\\nBuilding 4th layer: ')\n",
    "    h4 = fc_layer(h3_drop, name='fc_4', n_output_units=10, \n",
    "                             activation_fn=None)\n",
    "    \n",
    "    predictions = {\n",
    "        'probabilities' : tf.nn.softmax(h4, name='probabilities'),\n",
    "        'labels' : tf.cast(tf.argmax(h4, axis=1), tf.int32, name='labels')\n",
    "    }\n",
    "    \n",
    "    cross_entropy_loss = tf.reduce_mean(\n",
    "        tf.nn.softmax_cross_entropy_with_logits(\n",
    "            logits=h4, labels=tf_y_onehot),\n",
    "        name='cross_entropy_loss')\n",
    "    \n",
    "    optimiizer = tf.train.AdamOptimizer(learning_rate)\n",
    "    optimiizer = optimiizer.minimize(cross_entropy_loss, name='train_op')\n",
    "    \n",
    "    correct_predictions = tf.equal(predictions['labels'], tf_y, name='correct_preds')\n",
    "    accuracy = tf.reduce_mean(tf.cast(correct_predictions, tf.float32), name='accuracy')"
   ]
  },
  {
   "cell_type": "code",
   "execution_count": 35,
   "metadata": {},
   "outputs": [],
   "source": [
    "def save(saver, sess, epoch, path='./ch15-model/'):\n",
    "    if not os.path.isdir(path):\n",
    "        os.makedirs(path)\n",
    "    \n",
    "    print('Saving model in %s' % path)\n",
    "    saver.save(sess, os.path.join(path, 'cnn-model.ckpt'), global_step=epoch)\n",
    "\n",
    "def load(saver, sess, path, epoch):\n",
    "    print('Loading model from %s' % path)\n",
    "    saver.restore(sess, os.path.join(path, 'cnn-model.ckpt-%d' % epoch))\n",
    "\n",
    "def train(sess, training_set, validation_set=None, initialize=True, \n",
    "                 epochs=20, shuffle=True, dropout=0.5, random_seed=None):\n",
    "    X_data = np.array(training_set[0])\n",
    "    y_data = np.array(training_set[1])\n",
    "    training_loss = []\n",
    "    \n",
    "    if initialize:\n",
    "        sess.run(tf.global_variables_initializer())\n",
    "    \n",
    "    np.random.seed(random_seed)\n",
    "    \n",
    "    for epoch in range(1, epochs + 1):\n",
    "        batch_gen = batch_generator(X_data, y_data, shuffle=shuffle)\n",
    "        avg_loss = 0.0\n",
    "        for i, (batch_x, batch_y) in enumerate(batch_gen):\n",
    "            feed = {'tf_x:0': batch_x, \n",
    "                           'tf_y:0': batch_y,\n",
    "                           'fc_keep_prob:0': dropout}\n",
    "            loss, _ = sess.run(['cross_entropy_loss:0', 'train_op'], feed_dict=feed)\n",
    "            avg_loss += loss\n",
    "        \n",
    "        training_loss.append(avg_loss / (i+1))\n",
    "        print('Epoch %02d Training Avg. Loss: %7.3f' % \n",
    "                  (epoch, avg_loss), end='  ')\n",
    "        \n",
    "        if validation_set is not None:\n",
    "            feed = {'tf_x:0': validation_set[0],\n",
    "                           'tf_y:0': validation_set[1],\n",
    "                           'fc_keep_prob:0': 1.0}\n",
    "            valid_acc = sess.run('accuracy:0', feed_dict=feed)\n",
    "            print('  Validation Acc: %7.3f' % valid_acc)\n",
    "        else:\n",
    "            print()\n",
    "\n",
    "def predict(sess, X_test, return_proba=False):\n",
    "    feed = {'tf_x:0': X_test, 'fc_keep_prob:0': 1.0}\n",
    "    if return_proba:\n",
    "        return sess.run('probabilities:0', feed_dict=feed)\n",
    "    else:\n",
    "        return sess.run('labels:0', feed_dict=feed)"
   ]
  },
  {
   "cell_type": "code",
   "execution_count": 33,
   "metadata": {},
   "outputs": [
    {
     "name": "stdout",
     "output_type": "stream",
     "text": [
      "\n",
      "Building 1st layer: \n",
      "<tf.Variable 'conv_1/_weights:0' shape=(5, 5, 1, 32) dtype=float32_ref>\n",
      "<tf.Variable 'conv_1/_biases:0' shape=(32,) dtype=float32_ref>\n",
      "Tensor(\"conv_1/Conv2D:0\", shape=(?, 24, 24, 32), dtype=float32)\n",
      "Tensor(\"conv_1/net_pre-activation:0\", shape=(?, 24, 24, 32), dtype=float32)\n",
      "Tensor(\"conv_1/activation:0\", shape=(?, 24, 24, 32), dtype=float32)\n",
      "\n",
      "Building 2nd layer: \n",
      "<tf.Variable 'conv_2/_weights:0' shape=(5, 5, 32, 64) dtype=float32_ref>\n",
      "<tf.Variable 'conv_2/_biases:0' shape=(64,) dtype=float32_ref>\n",
      "Tensor(\"conv_2/Conv2D:0\", shape=(?, 8, 8, 64), dtype=float32)\n",
      "Tensor(\"conv_2/net_pre-activation:0\", shape=(?, 8, 8, 64), dtype=float32)\n",
      "Tensor(\"conv_2/activation:0\", shape=(?, 8, 8, 64), dtype=float32)\n",
      "\n",
      "Building 3rd layer: \n",
      "<tf.Variable 'fc_3/_weights:0' shape=(1024, 1024) dtype=float32_ref>\n",
      "<tf.Variable 'fc_3/_biases:0' shape=(1024,) dtype=float32_ref>\n",
      "Tensor(\"fc_3/MatMul:0\", shape=(?, 1024), dtype=float32)\n",
      "Tensor(\"fc_3/net_pre-activation:0\", shape=(?, 1024), dtype=float32)\n",
      "Tensor(\"fc_3/activation:0\", shape=(?, 1024), dtype=float32)\n",
      "\n",
      "Building 4th layer: \n",
      "<tf.Variable 'fc_4/_weights:0' shape=(1024, 10) dtype=float32_ref>\n",
      "<tf.Variable 'fc_4/_biases:0' shape=(10,) dtype=float32_ref>\n",
      "Tensor(\"fc_4/MatMul:0\", shape=(?, 10), dtype=float32)\n",
      "Tensor(\"fc_4/net_pre-activation:0\", shape=(?, 10), dtype=float32)\n"
     ]
    }
   ],
   "source": [
    "learning_rate = 1e-4\n",
    "random_seed = 123\n",
    "\n",
    "g = tf.Graph()\n",
    "with g.as_default():\n",
    "    tf.set_random_seed(random_seed)\n",
    "    \n",
    "    build_cnn(learning_rate=learning_rate)\n",
    "    \n",
    "    saver = tf.train.Saver()"
   ]
  },
  {
   "cell_type": "code",
   "execution_count": 36,
   "metadata": {},
   "outputs": [
    {
     "name": "stdout",
     "output_type": "stream",
     "text": [
      "Epoch 01 Training Avg. Loss: 275.508    Validation Acc:   0.970\n",
      "Epoch 02 Training Avg. Loss:  76.677    Validation Acc:   0.981\n",
      "Epoch 03 Training Avg. Loss:  52.637    Validation Acc:   0.984\n",
      "Epoch 04 Training Avg. Loss:  40.124    Validation Acc:   0.988\n",
      "Epoch 05 Training Avg. Loss:  32.219    Validation Acc:   0.989\n",
      "Epoch 06 Training Avg. Loss:  27.217    Validation Acc:   0.988\n",
      "Epoch 07 Training Avg. Loss:  23.949    Validation Acc:   0.990\n",
      "Epoch 08 Training Avg. Loss:  20.480    Validation Acc:   0.991\n",
      "Epoch 09 Training Avg. Loss:  18.157    Validation Acc:   0.991\n",
      "Epoch 10 Training Avg. Loss:  14.926    Validation Acc:   0.991\n",
      "Epoch 11 Training Avg. Loss:  13.324    Validation Acc:   0.991\n",
      "Epoch 12 Training Avg. Loss:  11.862    Validation Acc:   0.992\n",
      "Epoch 13 Training Avg. Loss:  10.408    Validation Acc:   0.992\n",
      "Epoch 14 Training Avg. Loss:   9.549    Validation Acc:   0.991\n",
      "Epoch 15 Training Avg. Loss:   8.208    Validation Acc:   0.991\n",
      "Epoch 16 Training Avg. Loss:   7.194    Validation Acc:   0.993\n",
      "Epoch 17 Training Avg. Loss:   6.719    Validation Acc:   0.992\n",
      "Epoch 18 Training Avg. Loss:   6.341    Validation Acc:   0.991\n",
      "Epoch 19 Training Avg. Loss:   5.179    Validation Acc:   0.992\n",
      "Epoch 20 Training Avg. Loss:   4.647    Validation Acc:   0.993\n",
      "Saving model in ./ch15-model/\n"
     ]
    }
   ],
   "source": [
    "with tf.Session(graph=g) as sess:\n",
    "    train(sess, \n",
    "             training_set=(X_train_centered, y_train),\n",
    "             validation_set=(X_valid_centered, y_valid),\n",
    "             initialize=True,\n",
    "             random_seed=123)\n",
    "    save(saver, sess, epoch=20)"
   ]
  },
  {
   "cell_type": "code",
   "execution_count": 37,
   "metadata": {},
   "outputs": [
    {
     "name": "stdout",
     "output_type": "stream",
     "text": [
      "\n",
      "Building 1st layer: \n",
      "<tf.Variable 'conv_1/_weights:0' shape=(5, 5, 1, 32) dtype=float32_ref>\n",
      "<tf.Variable 'conv_1/_biases:0' shape=(32,) dtype=float32_ref>\n",
      "Tensor(\"conv_1/Conv2D:0\", shape=(?, 24, 24, 32), dtype=float32)\n",
      "Tensor(\"conv_1/net_pre-activation:0\", shape=(?, 24, 24, 32), dtype=float32)\n",
      "Tensor(\"conv_1/activation:0\", shape=(?, 24, 24, 32), dtype=float32)\n",
      "\n",
      "Building 2nd layer: \n",
      "<tf.Variable 'conv_2/_weights:0' shape=(5, 5, 32, 64) dtype=float32_ref>\n",
      "<tf.Variable 'conv_2/_biases:0' shape=(64,) dtype=float32_ref>\n",
      "Tensor(\"conv_2/Conv2D:0\", shape=(?, 8, 8, 64), dtype=float32)\n",
      "Tensor(\"conv_2/net_pre-activation:0\", shape=(?, 8, 8, 64), dtype=float32)\n",
      "Tensor(\"conv_2/activation:0\", shape=(?, 8, 8, 64), dtype=float32)\n",
      "\n",
      "Building 3rd layer: \n",
      "<tf.Variable 'fc_3/_weights:0' shape=(1024, 1024) dtype=float32_ref>\n",
      "<tf.Variable 'fc_3/_biases:0' shape=(1024,) dtype=float32_ref>\n",
      "Tensor(\"fc_3/MatMul:0\", shape=(?, 1024), dtype=float32)\n",
      "Tensor(\"fc_3/net_pre-activation:0\", shape=(?, 1024), dtype=float32)\n",
      "Tensor(\"fc_3/activation:0\", shape=(?, 1024), dtype=float32)\n",
      "\n",
      "Building 4th layer: \n",
      "<tf.Variable 'fc_4/_weights:0' shape=(1024, 10) dtype=float32_ref>\n",
      "<tf.Variable 'fc_4/_biases:0' shape=(10,) dtype=float32_ref>\n",
      "Tensor(\"fc_4/MatMul:0\", shape=(?, 10), dtype=float32)\n",
      "Tensor(\"fc_4/net_pre-activation:0\", shape=(?, 10), dtype=float32)\n",
      "Loading model from ./ch15-model/\n",
      "INFO:tensorflow:Restoring parameters from ./ch15-model/cnn-model.ckpt-20\n",
      "Test Accuracy: 99.210\n"
     ]
    }
   ],
   "source": [
    "del g\n",
    "\n",
    "g2 = tf.Graph()\n",
    "with g2.as_default():\n",
    "    tf.set_random_seed(random_seed)\n",
    "    build_cnn(learning_rate=learning_rate)\n",
    "    saver = tf.train.Saver()\n",
    "    \n",
    "with tf.Session(graph=g2) as sess:\n",
    "    load(saver, sess, epoch=20, path='./ch15-model/')\n",
    "    preds = predict(sess, X_test_centered, return_proba=False)\n",
    "    print('Test Accuracy: %.3f' % (100 * np.sum(preds == y_test) /len(y_test)))"
   ]
  },
  {
   "cell_type": "code",
   "execution_count": 39,
   "metadata": {},
   "outputs": [
    {
     "name": "stdout",
     "output_type": "stream",
     "text": [
      "Loading model from ./ch15-model/\n",
      "INFO:tensorflow:Restoring parameters from ./ch15-model/cnn-model.ckpt-20\n",
      "[7 2 1 0 4 1 4 9 5 9]\n",
      "[[0. 0. 0. 0. 0. 0. 0. 1. 0. 0.]\n",
      " [0. 0. 1. 0. 0. 0. 0. 0. 0. 0.]\n",
      " [0. 1. 0. 0. 0. 0. 0. 0. 0. 0.]\n",
      " [1. 0. 0. 0. 0. 0. 0. 0. 0. 0.]\n",
      " [0. 0. 0. 0. 1. 0. 0. 0. 0. 0.]\n",
      " [0. 1. 0. 0. 0. 0. 0. 0. 0. 0.]\n",
      " [0. 0. 0. 0. 1. 0. 0. 0. 0. 0.]\n",
      " [0. 0. 0. 0. 0. 0. 0. 0. 0. 1.]\n",
      " [0. 0. 0. 0. 0. 1. 0. 0. 0. 0.]\n",
      " [0. 0. 0. 0. 0. 0. 0. 0. 0. 1.]]\n"
     ]
    }
   ],
   "source": [
    "np.set_printoptions(precision=2, suppress=True)\n",
    "\n",
    "with tf.Session(graph=g2) as sess:\n",
    "    load(saver, sess, epoch=20, path='./ch15-model/')\n",
    "    print(predict(sess, X_test_centered[:10], return_proba=False))\n",
    "    print(predict(sess, X_test_centered[:10], return_proba=True))"
   ]
  },
  {
   "cell_type": "code",
   "execution_count": 40,
   "metadata": {},
   "outputs": [
    {
     "name": "stdout",
     "output_type": "stream",
     "text": [
      "Loading model from ./ch15-model/\n",
      "INFO:tensorflow:Restoring parameters from ./ch15-model/cnn-model.ckpt-20\n",
      "Epoch 01 Training Avg. Loss:   4.506    Validation Acc:   0.992\n",
      "Epoch 02 Training Avg. Loss:   3.499    Validation Acc:   0.992\n",
      "Epoch 03 Training Avg. Loss:   3.818    Validation Acc:   0.992\n",
      "Epoch 04 Training Avg. Loss:   3.744    Validation Acc:   0.992\n",
      "Epoch 05 Training Avg. Loss:   3.203    Validation Acc:   0.992\n",
      "Epoch 06 Training Avg. Loss:   2.670    Validation Acc:   0.993\n",
      "Epoch 07 Training Avg. Loss:   3.249    Validation Acc:   0.992\n",
      "Epoch 08 Training Avg. Loss:   2.650    Validation Acc:   0.992\n",
      "Epoch 09 Training Avg. Loss:   2.087    Validation Acc:   0.992\n",
      "Epoch 10 Training Avg. Loss:   2.572    Validation Acc:   0.991\n",
      "Epoch 11 Training Avg. Loss:   1.947    Validation Acc:   0.993\n",
      "Epoch 12 Training Avg. Loss:   2.372    Validation Acc:   0.993\n",
      "Epoch 13 Training Avg. Loss:   1.894    Validation Acc:   0.992\n",
      "Epoch 14 Training Avg. Loss:   2.235    Validation Acc:   0.992\n",
      "Epoch 15 Training Avg. Loss:   2.003    Validation Acc:   0.992\n",
      "Epoch 16 Training Avg. Loss:   2.063    Validation Acc:   0.991\n",
      "Epoch 17 Training Avg. Loss:   1.454    Validation Acc:   0.992\n",
      "Epoch 18 Training Avg. Loss:   1.726    Validation Acc:   0.992\n",
      "Epoch 19 Training Avg. Loss:   1.322    Validation Acc:   0.992\n",
      "Epoch 20 Training Avg. Loss:   1.752    Validation Acc:   0.991\n",
      "Saving model in ./ch15-model/\n"
     ]
    },
    {
     "ename": "NameError",
     "evalue": "name 'prrint' is not defined",
     "output_type": "error",
     "traceback": [
      "\u001b[0;31m---------------------------------------------------------------------------\u001b[0m",
      "\u001b[0;31mNameError\u001b[0m                                 Traceback (most recent call last)",
      "\u001b[0;32m<ipython-input-40-2ff8a0ceb621>\u001b[0m in \u001b[0;36m<module>\u001b[0;34m\u001b[0m\n\u001b[1;32m     11\u001b[0m     \u001b[0msave\u001b[0m\u001b[0;34m(\u001b[0m\u001b[0msaver\u001b[0m\u001b[0;34m,\u001b[0m \u001b[0msess\u001b[0m\u001b[0;34m,\u001b[0m \u001b[0mepoch\u001b[0m\u001b[0;34m=\u001b[0m\u001b[0;36m40\u001b[0m\u001b[0;34m,\u001b[0m \u001b[0mpath\u001b[0m\u001b[0;34m=\u001b[0m\u001b[0;34m'./ch15-model/'\u001b[0m\u001b[0;34m)\u001b[0m\u001b[0;34m\u001b[0m\u001b[0;34m\u001b[0m\u001b[0m\n\u001b[1;32m     12\u001b[0m     \u001b[0mpreds\u001b[0m \u001b[0;34m=\u001b[0m \u001b[0mpredict\u001b[0m\u001b[0;34m(\u001b[0m\u001b[0msess\u001b[0m\u001b[0;34m,\u001b[0m \u001b[0mX_test_centered\u001b[0m\u001b[0;34m,\u001b[0m \u001b[0mreturn_proba\u001b[0m\u001b[0;34m=\u001b[0m\u001b[0;32mFalse\u001b[0m\u001b[0;34m)\u001b[0m\u001b[0;34m\u001b[0m\u001b[0;34m\u001b[0m\u001b[0m\n\u001b[0;32m---> 13\u001b[0;31m     \u001b[0mprrint\u001b[0m\u001b[0;34m(\u001b[0m\u001b[0;34m'Test Accurracy: %.3f%%'\u001b[0m \u001b[0;34m%\u001b[0m \u001b[0;34m(\u001b[0m\u001b[0;36m100\u001b[0m \u001b[0;34m*\u001b[0m \u001b[0mnp\u001b[0m\u001b[0;34m.\u001b[0m\u001b[0msum\u001b[0m\u001b[0;34m(\u001b[0m\u001b[0mpredse\u001b[0m\u001b[0;34m==\u001b[0m\u001b[0my_test\u001b[0m\u001b[0;34m)\u001b[0m\u001b[0;34m/\u001b[0m\u001b[0mlen\u001b[0m\u001b[0;34m(\u001b[0m\u001b[0my_test\u001b[0m\u001b[0;34m)\u001b[0m\u001b[0;34m)\u001b[0m\u001b[0;34m)\u001b[0m\u001b[0;34m\u001b[0m\u001b[0;34m\u001b[0m\u001b[0m\n\u001b[0m",
      "\u001b[0;31mNameError\u001b[0m: name 'prrint' is not defined"
     ]
    }
   ],
   "source": [
    "with tf.Session(graph=g2) as sess:\n",
    "    load(saver, sess, epoch=20, path='./ch15-model/')\n",
    "    \n",
    "    train(sess, \n",
    "                training_set=(X_train_centered, y_train),\n",
    "                 validation_set=(X_valid_centered, y_valid),\n",
    "                 initialize=False,\n",
    "                 epochs=20,\n",
    "                 random_seed=123)\n",
    "    \n",
    "    save(saver, sess, epoch=40, path='./ch15-model/')\n",
    "    preds = predict(sess, X_test_centered, return_proba=False)\n",
    "    print('Test Accurracy: %.3f%%' % (100 * np.sum(predse==y_test)/len(y_test)))"
   ]
  },
  {
   "cell_type": "code",
   "execution_count": 43,
   "metadata": {},
   "outputs": [
    {
     "name": "stdout",
     "output_type": "stream",
     "text": [
      "Loading model from ./ch15-model/\n",
      "INFO:tensorflow:Restoring parameters from ./ch15-model/cnn-model.ckpt-40\n",
      "Test Accurracy: 99.250%\n"
     ]
    }
   ],
   "source": [
    "with tf.Session(graph=g2) as sess:\n",
    "    load(saver, sess, epoch=40, path='./ch15-model/')\n",
    "    preds = predict(sess, X_test_centered, return_proba=False)\n",
    "    print('Test Accurracy: %.3f%%' % (100 * np.sum(preds==y_test)/len(y_test)))"
   ]
  },
  {
   "cell_type": "code",
   "execution_count": 46,
   "metadata": {},
   "outputs": [],
   "source": [
    "import tensorflow as tf\n",
    "import numpy as np\n",
    "\n",
    "class ConvNN(object):\n",
    "    \n",
    "    def __init__(self, batchsize=64, epochs=20, learning_rate=1e-4,\n",
    "                            dropout_rate=0.5, shuffle=True, random_seed=None):\n",
    "        np.random.seed(random_seed)\n",
    "        self.batchsize = batchsize\n",
    "        self.epochs = epochs\n",
    "        self.learning_rate = learning_rate\n",
    "        self.dropout_rate = dropout_rate\n",
    "        self.shuffle = shuffle\n",
    "        \n",
    "        g = tf.Graph()\n",
    "        with g.as_default():\n",
    "            tf.set_random_seed(random_seed)\n",
    "            self.build()\n",
    "            self.init_op = tf.global_variables_initializer()\n",
    "            self.saver = tf.train.Saver()\n",
    "        \n",
    "        self.sess = tf.Session(graph=g)\n",
    "        \n",
    "    def build(self):\n",
    "        tf_x = tf.placeholder(tf.float32, shape=[None, 784], name='tf_x')\n",
    "        tf_y = tf.placeholder(tf.int32, shape=[None], name='tf_y')\n",
    "        is_train = tf.placeholder(tf.bool, shape=(), name='is_train')\n",
    "        \n",
    "        tf_x_image = tf.reshape(tf_x, shape=[-1, 28, 28, 1],\n",
    "                                                       name='input_x_2dimages')\n",
    "        \n",
    "        tf_y_onehot = tf.one_hot(indices=tf_y, depth=10, \n",
    "                                                         dtype=tf.float32,\n",
    "                                                            name='input_y_onehot')\n",
    "        \n",
    "        h1 = tf.layers.conv2d(tf_x_image, kernel_size=(5, 5),\n",
    "                                                 filters=32, activation=tf.nn.relu)\n",
    "        \n",
    "        h1_pool = tf.layers.max_pooling2d(h1, pool_size=(2, 2), \n",
    "                                                                         strides=(2, 2))\n",
    "        \n",
    "        h2 = tf.layers.conv2d(h1_pool, kernel_size=(5, 5),\n",
    "                                                 filters=64, activation=tf.nn.relu)\n",
    "        \n",
    "        h2_pool = tf.layers.max_pooling2d(h2, pool_size=(2, 2),\n",
    "                                                                         strides=(2, 2))\n",
    "        \n",
    "        input_shape = h2_pool.get_shape().as_list()\n",
    "        n_input_units = np.prod(input_shape[1:])\n",
    "        h2_pool_flat = tf.reshape(h2_pool, shape=[-1, n_input_units])\n",
    "        h3 = tf.layers.dense(h2_pool_flat, 1024, activation=tf.nn.relu)\n",
    "        \n",
    "        h3_drop = tf.layers.dropout(h3, rate=self.dropout_rate, \n",
    "                                                           training=is_train)\n",
    "        \n",
    "        h4 = tf.layers.dense(h3_drop, 10, activation=None)\n",
    "\n",
    "        predictions = {\n",
    "            'probabilities': tf.nn.softmax(h4, name='probabilities'),\n",
    "            'labels': tf.cast(tf.argmax(h4, axis=1), tf.int32, name='labels')\n",
    "        }\n",
    "        \n",
    "        cross_entropy_loss = tf.reduce_mean(\n",
    "            tf.nn.softmax_cross_entropy_with_logits(\n",
    "                logits=h4, labels=tf_y_onehot),\n",
    "            name='cross_entropy_loss')\n",
    "        \n",
    "        optimizer = tf.train.AdamOptimizer(self.learning_rate)\n",
    "        optimizer = optimizer.minimize(cross_entropy_loss, \n",
    "                                                               name='train_op')\n",
    "        \n",
    "        correct_predictions = tf.equal(predictions['labels'],\n",
    "                                                              tf_y, name='correct_preds')\n",
    "        \n",
    "        accuracy = tf.reduce_mean(tf.cast(correct_predictions, \n",
    "                                                                         tf.float32),\n",
    "                                                         name='accuracy')\n",
    "    \n",
    "    def save(self, epoch, path='./ch15-tflayers-model/'):\n",
    "        if not os.path.isdir(path):\n",
    "            os.makedirs(path)\n",
    "        \n",
    "        print('Saving model in %s' % path)\n",
    "        \n",
    "        self.saver.save(self.sess, \n",
    "                                   os.path.join(path, 'model.ckpt'),\n",
    "                                   global_step=epoch)\n",
    "        \n",
    "    def load(self, epoch, path):\n",
    "        print('Loading model from %s' % path)\n",
    "        self.saver.restore(self.sess, \n",
    "                                          os.path.join(path, 'model.ckpt-%d' % epoch))\n",
    "    \n",
    "    def train(self, training_set, validation_set=None, initialize=True):\n",
    "        if initialize:\n",
    "            self.sess.run(self.init_op)\n",
    "            \n",
    "        self.train_cost_ = []\n",
    "        X_data = np.array(training_set[0])\n",
    "        y_data = np.array(training_set[1])\n",
    "        \n",
    "        for epoch in range(1, self.epochs + 1):\n",
    "            batch_gen = batch_generator(X_data, y_data, \n",
    "                                                                    shuffle=self.shuffle)\n",
    "            avg_loss = 0.0\n",
    "            for i, (batch_x, batch_y) in enumerate(batch_gen):\n",
    "                feed = {'tf_x:0': batch_x,\n",
    "                               'tf_y:0': batch_y,\n",
    "                               'is_train:0': True}\n",
    "                loss, _ = self.sess.run(['cross_entropy_loss:0', 'train_op'],\n",
    "                                                       feed_dict=feed)\n",
    "                \n",
    "                avg_loss += loss\n",
    "            \n",
    "            # avg_lossはループ回数で割るのでは？\n",
    "            print('Epoch %02d: Training Avg. Loss: %7.3f' % \n",
    "                         (epoch, avg_loss), end='  ')\n",
    "            \n",
    "            if validation_set is not None:\n",
    "                # 検証データセットから取得していないのは、おかしいのでは？\n",
    "                feed = {'tf_x:0': batch_x,\n",
    "                               'tf_y:0': batch_y,\n",
    "                               'is_train:0': False}\n",
    "                valid_acc = self.sess.run('accuracy:0', feed_dict=feed)\n",
    "                print('Validation Acc: %7.3f' % valid_acc)\n",
    "            else:\n",
    "                print()\n",
    "                \n",
    "    def predict(self, X_test, return_proba=False):\n",
    "        feed = {'tf_x:0': X_test, \n",
    "                       'is_train:0': False}\n",
    "        \n",
    "        if return_proba:\n",
    "            return self.sess.run('probabilities:0', feed_dict=feed)\n",
    "        else:\n",
    "            return self.sess.run('labels:0', feed_dict=feed)\n",
    "        "
   ]
  },
  {
   "cell_type": "code",
   "execution_count": 47,
   "metadata": {
    "scrolled": false
   },
   "outputs": [
    {
     "name": "stdout",
     "output_type": "stream",
     "text": [
      "WARNING:tensorflow:From <ipython-input-46-2554de0ca29e>:37: conv2d (from tensorflow.python.layers.convolutional) is deprecated and will be removed in a future version.\n",
      "Instructions for updating:\n",
      "Use `tf.keras.layers.Conv2D` instead.\n",
      "WARNING:tensorflow:From /opt/anaconda3/lib/python3.7/site-packages/tensorflow_core/python/layers/convolutional.py:424: Layer.apply (from tensorflow.python.keras.engine.base_layer) is deprecated and will be removed in a future version.\n",
      "Instructions for updating:\n",
      "Please use `layer.__call__` method instead.\n",
      "WARNING:tensorflow:From <ipython-input-46-2554de0ca29e>:40: max_pooling2d (from tensorflow.python.layers.pooling) is deprecated and will be removed in a future version.\n",
      "Instructions for updating:\n",
      "Use keras.layers.MaxPooling2D instead.\n",
      "WARNING:tensorflow:From <ipython-input-46-2554de0ca29e>:51: dense (from tensorflow.python.layers.core) is deprecated and will be removed in a future version.\n",
      "Instructions for updating:\n",
      "Use keras.layers.Dense instead.\n",
      "WARNING:tensorflow:From <ipython-input-46-2554de0ca29e>:54: dropout (from tensorflow.python.layers.core) is deprecated and will be removed in a future version.\n",
      "Instructions for updating:\n",
      "Use keras.layers.dropout instead.\n",
      "Epoch 01: Training Avg. Loss: 271.431  Validation Acc:   1.000\n",
      "Epoch 02: Training Avg. Loss:  73.639  Validation Acc:   1.000\n",
      "Epoch 03: Training Avg. Loss:  50.930  Validation Acc:   1.000\n",
      "Epoch 04: Training Avg. Loss:  40.357  Validation Acc:   1.000\n",
      "Epoch 05: Training Avg. Loss:  31.734  Validation Acc:   1.000\n",
      "Epoch 06: Training Avg. Loss:  27.408  Validation Acc:   1.000\n",
      "Epoch 07: Training Avg. Loss:  22.701  Validation Acc:   1.000\n",
      "Epoch 08: Training Avg. Loss:  19.355  Validation Acc:   1.000\n",
      "Epoch 09: Training Avg. Loss:  17.905  Validation Acc:   1.000\n",
      "Epoch 10: Training Avg. Loss:  15.128  Validation Acc:   1.000\n",
      "Epoch 11: Training Avg. Loss:  13.010  Validation Acc:   1.000\n",
      "Epoch 12: Training Avg. Loss:  11.180  Validation Acc:   1.000\n",
      "Epoch 13: Training Avg. Loss:  10.281  Validation Acc:   1.000\n",
      "Epoch 14: Training Avg. Loss:   9.268  Validation Acc:   1.000\n",
      "Epoch 15: Training Avg. Loss:   7.289  Validation Acc:   1.000\n",
      "Epoch 16: Training Avg. Loss:   6.930  Validation Acc:   1.000\n",
      "Epoch 17: Training Avg. Loss:   6.040  Validation Acc:   1.000\n",
      "Epoch 18: Training Avg. Loss:   5.731  Validation Acc:   1.000\n",
      "Epoch 19: Training Avg. Loss:   5.009  Validation Acc:   1.000\n",
      "Epoch 20: Training Avg. Loss:   3.787  Validation Acc:   1.000\n",
      "Saving model in ./ch15-tflayers-model/\n"
     ]
    }
   ],
   "source": [
    "cnn = ConvNN(random_seed=123)\n",
    "\n",
    "cnn.train(training_set=(X_train_centered, y_train),\n",
    "                 validation_set=(X_valid_centered, y_valid))\n",
    "\n",
    "cnn.save(epoch=20)"
   ]
  },
  {
   "cell_type": "code",
   "execution_count": 48,
   "metadata": {},
   "outputs": [
    {
     "name": "stdout",
     "output_type": "stream",
     "text": [
      "Loading model from ./ch15-tflayers-model/\n",
      "INFO:tensorflow:Restoring parameters from ./ch15-tflayers-model/model.ckpt-20\n",
      "[7 2 1 0 4 1 4 9 5 9]\n"
     ]
    }
   ],
   "source": [
    "del cnn\n",
    "\n",
    "cnn2 = ConvNN(random_seed=123)\n",
    "cnn2.load(epoch=20, path='./ch15-tflayers-model/')\n",
    "print(cnn2.predict(X_test_centered[:10, :]))"
   ]
  },
  {
   "cell_type": "code",
   "execution_count": 49,
   "metadata": {},
   "outputs": [
    {
     "name": "stdout",
     "output_type": "stream",
     "text": [
      "Test Accuracy: 99.35%\n"
     ]
    }
   ],
   "source": [
    "preds = cnn2.predict(X_test_centered)\n",
    "\n",
    "print('Test Accuracy: %.2f%%' % (100 * np.sum(y_test == preds) / len(y_test)))"
   ]
  }
 ],
 "metadata": {
  "kernelspec": {
   "display_name": "Python 3",
   "language": "python",
   "name": "python3"
  },
  "language_info": {
   "codemirror_mode": {
    "name": "ipython",
    "version": 3
   },
   "file_extension": ".py",
   "mimetype": "text/x-python",
   "name": "python",
   "nbconvert_exporter": "python",
   "pygments_lexer": "ipython3",
   "version": "3.7.4"
  }
 },
 "nbformat": 4,
 "nbformat_minor": 2
}
